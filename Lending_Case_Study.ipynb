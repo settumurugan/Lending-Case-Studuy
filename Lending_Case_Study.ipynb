{
 "cells": [
  {
   "cell_type": "code",
   "execution_count": 322,
   "id": "3dc07e1f-086c-4498-9e19-f059f991dc81",
   "metadata": {},
   "outputs": [],
   "source": [
    "import numpy as np\n",
    "import pandas as pd\n",
    "#data visualization\n",
    "import seaborn as sns\n",
    "import matplotlib.pyplot as plt\n",
    "\n",
    "#extra\n",
    "import warnings \n",
    "warnings.filterwarnings('ignore')"
   ]
  },
  {
   "cell_type": "code",
   "execution_count": 323,
   "id": "876812ab-9298-4e22-a348-b110e20c79db",
   "metadata": {},
   "outputs": [],
   "source": [
    "lending_df = pd.read_csv(r'C:\\Users\\murugans\\Downloads\\loan\\loan.csv')"
   ]
  },
  {
   "cell_type": "code",
   "execution_count": 324,
   "id": "762642cb-125c-4b31-b3bf-3dfcec09ed3f",
   "metadata": {
    "scrolled": true
   },
   "outputs": [
    {
     "data": {
      "text/plain": [
       "(39717, 111)"
      ]
     },
     "execution_count": 324,
     "metadata": {},
     "output_type": "execute_result"
    }
   ],
   "source": [
    "lending_df.shape"
   ]
  },
  {
   "cell_type": "markdown",
   "id": "22f85ee0",
   "metadata": {},
   "source": [
    "# 1 Data Cleaning\n",
    "#Delete incorrect rows, Unncessary Header and Footer in the data set"
   ]
  },
  {
   "cell_type": "code",
   "execution_count": 325,
   "id": "1350612a-3eac-4a1e-9eed-de76d1717b4d",
   "metadata": {},
   "outputs": [
    {
     "data": {
      "text/html": [
       "<div>\n",
       "<style scoped>\n",
       "    .dataframe tbody tr th:only-of-type {\n",
       "        vertical-align: middle;\n",
       "    }\n",
       "\n",
       "    .dataframe tbody tr th {\n",
       "        vertical-align: top;\n",
       "    }\n",
       "\n",
       "    .dataframe thead th {\n",
       "        text-align: right;\n",
       "    }\n",
       "</style>\n",
       "<table border=\"1\" class=\"dataframe\">\n",
       "  <thead>\n",
       "    <tr style=\"text-align: right;\">\n",
       "      <th></th>\n",
       "      <th>id</th>\n",
       "      <th>member_id</th>\n",
       "      <th>loan_amnt</th>\n",
       "      <th>funded_amnt</th>\n",
       "      <th>funded_amnt_inv</th>\n",
       "      <th>term</th>\n",
       "      <th>int_rate</th>\n",
       "      <th>installment</th>\n",
       "      <th>grade</th>\n",
       "      <th>sub_grade</th>\n",
       "      <th>...</th>\n",
       "      <th>num_tl_90g_dpd_24m</th>\n",
       "      <th>num_tl_op_past_12m</th>\n",
       "      <th>pct_tl_nvr_dlq</th>\n",
       "      <th>percent_bc_gt_75</th>\n",
       "      <th>pub_rec_bankruptcies</th>\n",
       "      <th>tax_liens</th>\n",
       "      <th>tot_hi_cred_lim</th>\n",
       "      <th>total_bal_ex_mort</th>\n",
       "      <th>total_bc_limit</th>\n",
       "      <th>total_il_high_credit_limit</th>\n",
       "    </tr>\n",
       "  </thead>\n",
       "  <tbody>\n",
       "    <tr>\n",
       "      <th>0</th>\n",
       "      <td>1077501</td>\n",
       "      <td>1296599</td>\n",
       "      <td>5000</td>\n",
       "      <td>5000</td>\n",
       "      <td>4975.0</td>\n",
       "      <td>36 months</td>\n",
       "      <td>10.65%</td>\n",
       "      <td>162.87</td>\n",
       "      <td>B</td>\n",
       "      <td>B2</td>\n",
       "      <td>...</td>\n",
       "      <td>NaN</td>\n",
       "      <td>NaN</td>\n",
       "      <td>NaN</td>\n",
       "      <td>NaN</td>\n",
       "      <td>0.0</td>\n",
       "      <td>0.0</td>\n",
       "      <td>NaN</td>\n",
       "      <td>NaN</td>\n",
       "      <td>NaN</td>\n",
       "      <td>NaN</td>\n",
       "    </tr>\n",
       "    <tr>\n",
       "      <th>1</th>\n",
       "      <td>1077430</td>\n",
       "      <td>1314167</td>\n",
       "      <td>2500</td>\n",
       "      <td>2500</td>\n",
       "      <td>2500.0</td>\n",
       "      <td>60 months</td>\n",
       "      <td>15.27%</td>\n",
       "      <td>59.83</td>\n",
       "      <td>C</td>\n",
       "      <td>C4</td>\n",
       "      <td>...</td>\n",
       "      <td>NaN</td>\n",
       "      <td>NaN</td>\n",
       "      <td>NaN</td>\n",
       "      <td>NaN</td>\n",
       "      <td>0.0</td>\n",
       "      <td>0.0</td>\n",
       "      <td>NaN</td>\n",
       "      <td>NaN</td>\n",
       "      <td>NaN</td>\n",
       "      <td>NaN</td>\n",
       "    </tr>\n",
       "    <tr>\n",
       "      <th>2</th>\n",
       "      <td>1077175</td>\n",
       "      <td>1313524</td>\n",
       "      <td>2400</td>\n",
       "      <td>2400</td>\n",
       "      <td>2400.0</td>\n",
       "      <td>36 months</td>\n",
       "      <td>15.96%</td>\n",
       "      <td>84.33</td>\n",
       "      <td>C</td>\n",
       "      <td>C5</td>\n",
       "      <td>...</td>\n",
       "      <td>NaN</td>\n",
       "      <td>NaN</td>\n",
       "      <td>NaN</td>\n",
       "      <td>NaN</td>\n",
       "      <td>0.0</td>\n",
       "      <td>0.0</td>\n",
       "      <td>NaN</td>\n",
       "      <td>NaN</td>\n",
       "      <td>NaN</td>\n",
       "      <td>NaN</td>\n",
       "    </tr>\n",
       "    <tr>\n",
       "      <th>3</th>\n",
       "      <td>1076863</td>\n",
       "      <td>1277178</td>\n",
       "      <td>10000</td>\n",
       "      <td>10000</td>\n",
       "      <td>10000.0</td>\n",
       "      <td>36 months</td>\n",
       "      <td>13.49%</td>\n",
       "      <td>339.31</td>\n",
       "      <td>C</td>\n",
       "      <td>C1</td>\n",
       "      <td>...</td>\n",
       "      <td>NaN</td>\n",
       "      <td>NaN</td>\n",
       "      <td>NaN</td>\n",
       "      <td>NaN</td>\n",
       "      <td>0.0</td>\n",
       "      <td>0.0</td>\n",
       "      <td>NaN</td>\n",
       "      <td>NaN</td>\n",
       "      <td>NaN</td>\n",
       "      <td>NaN</td>\n",
       "    </tr>\n",
       "    <tr>\n",
       "      <th>4</th>\n",
       "      <td>1075358</td>\n",
       "      <td>1311748</td>\n",
       "      <td>3000</td>\n",
       "      <td>3000</td>\n",
       "      <td>3000.0</td>\n",
       "      <td>60 months</td>\n",
       "      <td>12.69%</td>\n",
       "      <td>67.79</td>\n",
       "      <td>B</td>\n",
       "      <td>B5</td>\n",
       "      <td>...</td>\n",
       "      <td>NaN</td>\n",
       "      <td>NaN</td>\n",
       "      <td>NaN</td>\n",
       "      <td>NaN</td>\n",
       "      <td>0.0</td>\n",
       "      <td>0.0</td>\n",
       "      <td>NaN</td>\n",
       "      <td>NaN</td>\n",
       "      <td>NaN</td>\n",
       "      <td>NaN</td>\n",
       "    </tr>\n",
       "  </tbody>\n",
       "</table>\n",
       "<p>5 rows × 111 columns</p>\n",
       "</div>"
      ],
      "text/plain": [
       "        id  member_id  loan_amnt  funded_amnt  funded_amnt_inv        term  \\\n",
       "0  1077501    1296599       5000         5000           4975.0   36 months   \n",
       "1  1077430    1314167       2500         2500           2500.0   60 months   \n",
       "2  1077175    1313524       2400         2400           2400.0   36 months   \n",
       "3  1076863    1277178      10000        10000          10000.0   36 months   \n",
       "4  1075358    1311748       3000         3000           3000.0   60 months   \n",
       "\n",
       "  int_rate  installment grade sub_grade  ... num_tl_90g_dpd_24m  \\\n",
       "0   10.65%       162.87     B        B2  ...                NaN   \n",
       "1   15.27%        59.83     C        C4  ...                NaN   \n",
       "2   15.96%        84.33     C        C5  ...                NaN   \n",
       "3   13.49%       339.31     C        C1  ...                NaN   \n",
       "4   12.69%        67.79     B        B5  ...                NaN   \n",
       "\n",
       "  num_tl_op_past_12m pct_tl_nvr_dlq  percent_bc_gt_75 pub_rec_bankruptcies  \\\n",
       "0                NaN            NaN               NaN                  0.0   \n",
       "1                NaN            NaN               NaN                  0.0   \n",
       "2                NaN            NaN               NaN                  0.0   \n",
       "3                NaN            NaN               NaN                  0.0   \n",
       "4                NaN            NaN               NaN                  0.0   \n",
       "\n",
       "  tax_liens tot_hi_cred_lim total_bal_ex_mort total_bc_limit  \\\n",
       "0       0.0             NaN               NaN            NaN   \n",
       "1       0.0             NaN               NaN            NaN   \n",
       "2       0.0             NaN               NaN            NaN   \n",
       "3       0.0             NaN               NaN            NaN   \n",
       "4       0.0             NaN               NaN            NaN   \n",
       "\n",
       "  total_il_high_credit_limit  \n",
       "0                        NaN  \n",
       "1                        NaN  \n",
       "2                        NaN  \n",
       "3                        NaN  \n",
       "4                        NaN  \n",
       "\n",
       "[5 rows x 111 columns]"
      ]
     },
     "execution_count": 325,
     "metadata": {},
     "output_type": "execute_result"
    }
   ],
   "source": [
    "lending_df.head(5)"
   ]
  },
  {
   "cell_type": "code",
   "execution_count": 326,
   "id": "515a1d6a-8c74-46fc-b72c-af387eb1b070",
   "metadata": {},
   "outputs": [
    {
     "data": {
      "text/html": [
       "<div>\n",
       "<style scoped>\n",
       "    .dataframe tbody tr th:only-of-type {\n",
       "        vertical-align: middle;\n",
       "    }\n",
       "\n",
       "    .dataframe tbody tr th {\n",
       "        vertical-align: top;\n",
       "    }\n",
       "\n",
       "    .dataframe thead th {\n",
       "        text-align: right;\n",
       "    }\n",
       "</style>\n",
       "<table border=\"1\" class=\"dataframe\">\n",
       "  <thead>\n",
       "    <tr style=\"text-align: right;\">\n",
       "      <th></th>\n",
       "      <th>id</th>\n",
       "      <th>member_id</th>\n",
       "      <th>loan_amnt</th>\n",
       "      <th>funded_amnt</th>\n",
       "      <th>funded_amnt_inv</th>\n",
       "      <th>term</th>\n",
       "      <th>int_rate</th>\n",
       "      <th>installment</th>\n",
       "      <th>grade</th>\n",
       "      <th>sub_grade</th>\n",
       "      <th>...</th>\n",
       "      <th>num_tl_90g_dpd_24m</th>\n",
       "      <th>num_tl_op_past_12m</th>\n",
       "      <th>pct_tl_nvr_dlq</th>\n",
       "      <th>percent_bc_gt_75</th>\n",
       "      <th>pub_rec_bankruptcies</th>\n",
       "      <th>tax_liens</th>\n",
       "      <th>tot_hi_cred_lim</th>\n",
       "      <th>total_bal_ex_mort</th>\n",
       "      <th>total_bc_limit</th>\n",
       "      <th>total_il_high_credit_limit</th>\n",
       "    </tr>\n",
       "  </thead>\n",
       "  <tbody>\n",
       "    <tr>\n",
       "      <th>39712</th>\n",
       "      <td>92187</td>\n",
       "      <td>92174</td>\n",
       "      <td>2500</td>\n",
       "      <td>2500</td>\n",
       "      <td>1075.0</td>\n",
       "      <td>36 months</td>\n",
       "      <td>8.07%</td>\n",
       "      <td>78.42</td>\n",
       "      <td>A</td>\n",
       "      <td>A4</td>\n",
       "      <td>...</td>\n",
       "      <td>NaN</td>\n",
       "      <td>NaN</td>\n",
       "      <td>NaN</td>\n",
       "      <td>NaN</td>\n",
       "      <td>NaN</td>\n",
       "      <td>NaN</td>\n",
       "      <td>NaN</td>\n",
       "      <td>NaN</td>\n",
       "      <td>NaN</td>\n",
       "      <td>NaN</td>\n",
       "    </tr>\n",
       "    <tr>\n",
       "      <th>39713</th>\n",
       "      <td>90665</td>\n",
       "      <td>90607</td>\n",
       "      <td>8500</td>\n",
       "      <td>8500</td>\n",
       "      <td>875.0</td>\n",
       "      <td>36 months</td>\n",
       "      <td>10.28%</td>\n",
       "      <td>275.38</td>\n",
       "      <td>C</td>\n",
       "      <td>C1</td>\n",
       "      <td>...</td>\n",
       "      <td>NaN</td>\n",
       "      <td>NaN</td>\n",
       "      <td>NaN</td>\n",
       "      <td>NaN</td>\n",
       "      <td>NaN</td>\n",
       "      <td>NaN</td>\n",
       "      <td>NaN</td>\n",
       "      <td>NaN</td>\n",
       "      <td>NaN</td>\n",
       "      <td>NaN</td>\n",
       "    </tr>\n",
       "    <tr>\n",
       "      <th>39714</th>\n",
       "      <td>90395</td>\n",
       "      <td>90390</td>\n",
       "      <td>5000</td>\n",
       "      <td>5000</td>\n",
       "      <td>1325.0</td>\n",
       "      <td>36 months</td>\n",
       "      <td>8.07%</td>\n",
       "      <td>156.84</td>\n",
       "      <td>A</td>\n",
       "      <td>A4</td>\n",
       "      <td>...</td>\n",
       "      <td>NaN</td>\n",
       "      <td>NaN</td>\n",
       "      <td>NaN</td>\n",
       "      <td>NaN</td>\n",
       "      <td>NaN</td>\n",
       "      <td>NaN</td>\n",
       "      <td>NaN</td>\n",
       "      <td>NaN</td>\n",
       "      <td>NaN</td>\n",
       "      <td>NaN</td>\n",
       "    </tr>\n",
       "    <tr>\n",
       "      <th>39715</th>\n",
       "      <td>90376</td>\n",
       "      <td>89243</td>\n",
       "      <td>5000</td>\n",
       "      <td>5000</td>\n",
       "      <td>650.0</td>\n",
       "      <td>36 months</td>\n",
       "      <td>7.43%</td>\n",
       "      <td>155.38</td>\n",
       "      <td>A</td>\n",
       "      <td>A2</td>\n",
       "      <td>...</td>\n",
       "      <td>NaN</td>\n",
       "      <td>NaN</td>\n",
       "      <td>NaN</td>\n",
       "      <td>NaN</td>\n",
       "      <td>NaN</td>\n",
       "      <td>NaN</td>\n",
       "      <td>NaN</td>\n",
       "      <td>NaN</td>\n",
       "      <td>NaN</td>\n",
       "      <td>NaN</td>\n",
       "    </tr>\n",
       "    <tr>\n",
       "      <th>39716</th>\n",
       "      <td>87023</td>\n",
       "      <td>86999</td>\n",
       "      <td>7500</td>\n",
       "      <td>7500</td>\n",
       "      <td>800.0</td>\n",
       "      <td>36 months</td>\n",
       "      <td>13.75%</td>\n",
       "      <td>255.43</td>\n",
       "      <td>E</td>\n",
       "      <td>E2</td>\n",
       "      <td>...</td>\n",
       "      <td>NaN</td>\n",
       "      <td>NaN</td>\n",
       "      <td>NaN</td>\n",
       "      <td>NaN</td>\n",
       "      <td>NaN</td>\n",
       "      <td>NaN</td>\n",
       "      <td>NaN</td>\n",
       "      <td>NaN</td>\n",
       "      <td>NaN</td>\n",
       "      <td>NaN</td>\n",
       "    </tr>\n",
       "  </tbody>\n",
       "</table>\n",
       "<p>5 rows × 111 columns</p>\n",
       "</div>"
      ],
      "text/plain": [
       "          id  member_id  loan_amnt  funded_amnt  funded_amnt_inv        term  \\\n",
       "39712  92187      92174       2500         2500           1075.0   36 months   \n",
       "39713  90665      90607       8500         8500            875.0   36 months   \n",
       "39714  90395      90390       5000         5000           1325.0   36 months   \n",
       "39715  90376      89243       5000         5000            650.0   36 months   \n",
       "39716  87023      86999       7500         7500            800.0   36 months   \n",
       "\n",
       "      int_rate  installment grade sub_grade  ... num_tl_90g_dpd_24m  \\\n",
       "39712    8.07%        78.42     A        A4  ...                NaN   \n",
       "39713   10.28%       275.38     C        C1  ...                NaN   \n",
       "39714    8.07%       156.84     A        A4  ...                NaN   \n",
       "39715    7.43%       155.38     A        A2  ...                NaN   \n",
       "39716   13.75%       255.43     E        E2  ...                NaN   \n",
       "\n",
       "      num_tl_op_past_12m pct_tl_nvr_dlq  percent_bc_gt_75  \\\n",
       "39712                NaN            NaN               NaN   \n",
       "39713                NaN            NaN               NaN   \n",
       "39714                NaN            NaN               NaN   \n",
       "39715                NaN            NaN               NaN   \n",
       "39716                NaN            NaN               NaN   \n",
       "\n",
       "      pub_rec_bankruptcies tax_liens tot_hi_cred_lim total_bal_ex_mort  \\\n",
       "39712                  NaN       NaN             NaN               NaN   \n",
       "39713                  NaN       NaN             NaN               NaN   \n",
       "39714                  NaN       NaN             NaN               NaN   \n",
       "39715                  NaN       NaN             NaN               NaN   \n",
       "39716                  NaN       NaN             NaN               NaN   \n",
       "\n",
       "      total_bc_limit total_il_high_credit_limit  \n",
       "39712            NaN                        NaN  \n",
       "39713            NaN                        NaN  \n",
       "39714            NaN                        NaN  \n",
       "39715            NaN                        NaN  \n",
       "39716            NaN                        NaN  \n",
       "\n",
       "[5 rows x 111 columns]"
      ]
     },
     "execution_count": 326,
     "metadata": {},
     "output_type": "execute_result"
    }
   ],
   "source": [
    "lending_df.tail()"
   ]
  },
  {
   "cell_type": "code",
   "execution_count": 327,
   "id": "c93b2fb8-e8f4-406a-8538-4f20eda97d01",
   "metadata": {},
   "outputs": [],
   "source": [
    "## Looks like no header and footer in the data frame. Also no summary columns\n",
    "#2 lets check about duplicate rows\n",
    "duplicate = len(lending_df[lending_df.duplicated()])"
   ]
  },
  {
   "cell_type": "code",
   "execution_count": 328,
   "id": "9fc5f0e3-4aa3-429f-8b72-e42a259b5b2a",
   "metadata": {},
   "outputs": [
    {
     "name": "stdout",
     "output_type": "stream",
     "text": [
      "No of duplicate rows =  0\n"
     ]
    }
   ],
   "source": [
    "print(\"No of duplicate rows = \", duplicate)"
   ]
  },
  {
   "cell_type": "code",
   "execution_count": 329,
   "id": "6c665ca5-b363-4ce3-b3e1-b4ebc5874587",
   "metadata": {},
   "outputs": [],
   "source": [
    "# No duplicate Rows found, \n",
    "# We found in the data set, there were many columns having Null values.\n",
    "# It is not required for analysis. Hence find and remove those columns\n",
    "null_columns = sum(lending_df.isnull().all())"
   ]
  },
  {
   "cell_type": "code",
   "execution_count": 330,
   "id": "f362a016",
   "metadata": {},
   "outputs": [
    {
     "data": {
      "text/plain": [
       "54"
      ]
     },
     "execution_count": 330,
     "metadata": {},
     "output_type": "execute_result"
    }
   ],
   "source": [
    "null_columns"
   ]
  },
  {
   "cell_type": "markdown",
   "id": "452c32ba",
   "metadata": {},
   "source": [
    "print('No of columns having all values as null', null_columns)"
   ]
  },
  {
   "cell_type": "code",
   "execution_count": 331,
   "id": "33c3454b-7551-4aac-9c2f-60b7af21e828",
   "metadata": {
    "scrolled": true
   },
   "outputs": [],
   "source": [
    "null_column_name = lending_df.columns[lending_df.isnull().all()]"
   ]
  },
  {
   "cell_type": "code",
   "execution_count": 332,
   "id": "715ede5a-b57f-4f28-809a-21f4571c1014",
   "metadata": {},
   "outputs": [
    {
     "data": {
      "text/plain": [
       "Index(['mths_since_last_major_derog', 'annual_inc_joint', 'dti_joint',\n",
       "       'verification_status_joint', 'tot_coll_amt', 'tot_cur_bal',\n",
       "       'open_acc_6m', 'open_il_6m', 'open_il_12m', 'open_il_24m',\n",
       "       'mths_since_rcnt_il', 'total_bal_il', 'il_util', 'open_rv_12m',\n",
       "       'open_rv_24m', 'max_bal_bc', 'all_util', 'total_rev_hi_lim', 'inq_fi',\n",
       "       'total_cu_tl', 'inq_last_12m', 'acc_open_past_24mths', 'avg_cur_bal',\n",
       "       'bc_open_to_buy', 'bc_util', 'mo_sin_old_il_acct',\n",
       "       'mo_sin_old_rev_tl_op', 'mo_sin_rcnt_rev_tl_op', 'mo_sin_rcnt_tl',\n",
       "       'mort_acc', 'mths_since_recent_bc', 'mths_since_recent_bc_dlq',\n",
       "       'mths_since_recent_inq', 'mths_since_recent_revol_delinq',\n",
       "       'num_accts_ever_120_pd', 'num_actv_bc_tl', 'num_actv_rev_tl',\n",
       "       'num_bc_sats', 'num_bc_tl', 'num_il_tl', 'num_op_rev_tl',\n",
       "       'num_rev_accts', 'num_rev_tl_bal_gt_0', 'num_sats', 'num_tl_120dpd_2m',\n",
       "       'num_tl_30dpd', 'num_tl_90g_dpd_24m', 'num_tl_op_past_12m',\n",
       "       'pct_tl_nvr_dlq', 'percent_bc_gt_75', 'tot_hi_cred_lim',\n",
       "       'total_bal_ex_mort', 'total_bc_limit', 'total_il_high_credit_limit'],\n",
       "      dtype='object')"
      ]
     },
     "execution_count": 332,
     "metadata": {},
     "output_type": "execute_result"
    }
   ],
   "source": [
    "null_column_name"
   ]
  },
  {
   "cell_type": "code",
   "execution_count": 333,
   "id": "0b23c88b-eb3b-4b1e-b17a-0f58d4a40144",
   "metadata": {},
   "outputs": [
    {
     "data": {
      "text/plain": [
       "dtype('O')"
      ]
     },
     "execution_count": 333,
     "metadata": {},
     "output_type": "execute_result"
    }
   ],
   "source": [
    "null_column_name.dtype"
   ]
  },
  {
   "cell_type": "code",
   "execution_count": 334,
   "id": "17c579aa-8500-4ec3-9cfa-41e7cebd5977",
   "metadata": {},
   "outputs": [],
   "source": [
    "## Delete all the columns having null values\n",
    "lending_df = lending_df.dropna(axis=1, how='all')"
   ]
  },
  {
   "cell_type": "code",
   "execution_count": 335,
   "id": "8ac89eb7-aa51-440c-aaea-9caea6e28a4e",
   "metadata": {},
   "outputs": [
    {
     "data": {
      "text/plain": [
       "(39717, 57)"
      ]
     },
     "execution_count": 335,
     "metadata": {},
     "output_type": "execute_result"
    }
   ],
   "source": [
    "lending_df.shape"
   ]
  },
  {
   "cell_type": "code",
   "execution_count": 336,
   "id": "87dedbc8-5520-49a3-b739-0e14b7e61248",
   "metadata": {},
   "outputs": [],
   "source": [
    "##Delete columns having unique values\n",
    "unique_columns = [col for col in lending_df.columns if lending_df[col].nunique() ==len(lending_df)]"
   ]
  },
  {
   "cell_type": "code",
   "execution_count": 337,
   "id": "e677b56a-3f30-4923-8145-e81fdec03d18",
   "metadata": {},
   "outputs": [
    {
     "data": {
      "text/plain": [
       "['id', 'member_id', 'url']"
      ]
     },
     "execution_count": 337,
     "metadata": {},
     "output_type": "execute_result"
    }
   ],
   "source": [
    "unique_columns"
   ]
  },
  {
   "cell_type": "code",
   "execution_count": 338,
   "id": "4d50a0bc-d538-4c51-9bc8-5d92a4c88f76",
   "metadata": {},
   "outputs": [],
   "source": [
    "lending_df.drop(unique_columns, axis =1, inplace = True)"
   ]
  },
  {
   "cell_type": "code",
   "execution_count": 339,
   "id": "56e314d6-abd3-45de-9c19-266f62ab12ec",
   "metadata": {},
   "outputs": [
    {
     "data": {
      "text/plain": [
       "(39717, 54)"
      ]
     },
     "execution_count": 339,
     "metadata": {},
     "output_type": "execute_result"
    }
   ],
   "source": [
    "lending_df.shape"
   ]
  },
  {
   "cell_type": "code",
   "execution_count": 340,
   "id": "e75010be-0acf-4409-8a42-4a11da1ba872",
   "metadata": {},
   "outputs": [],
   "source": [
    "# Now Delete all the columns which are having all the values as same.. also may not be usefull for further analysis\n",
    "lending_df.drop(columns=['pymnt_plan','initial_list_status', 'collections_12_mths_ex_med'], axis =1, inplace=True)\n"
   ]
  },
  {
   "cell_type": "code",
   "execution_count": 341,
   "id": "65f3f31a-1c3a-4b81-96e2-32125fb52f38",
   "metadata": {},
   "outputs": [
    {
     "data": {
      "text/plain": [
       "(39717, 51)"
      ]
     },
     "execution_count": 341,
     "metadata": {},
     "output_type": "execute_result"
    }
   ],
   "source": [
    "lending_df.shape"
   ]
  },
  {
   "cell_type": "code",
   "execution_count": 342,
   "id": "1a721432-e713-4395-924e-a53f28f9cda2",
   "metadata": {},
   "outputs": [],
   "source": [
    "#lending_df.to_csv(r'C:\\Users\\murugans\\Downloads\\loan\\loan1.csv', index=False)"
   ]
  },
  {
   "cell_type": "code",
   "execution_count": 343,
   "id": "74907f9a",
   "metadata": {},
   "outputs": [],
   "source": [
    "#following variables may not provide much insights on this case study, hence removing those columns\n",
    "# some column having same values across all load Ids. hence may not be useful in the analysis. Hence removing them\n",
    "Other_columns_Not_useful = ['sub_grade','total_rec_late_fee','last_pymnt_amnt','last_pymnt_d','next_pymnt_d', 'last_credit_pull_d', 'policy_code','application_type','acc_now_delinq','delinq_amnt','pub_rec_bankruptcies','tax_liens']\n",
    "lending_df.drop(Other_columns_Not_useful, axis =1, inplace = True)"
   ]
  },
  {
   "cell_type": "code",
   "execution_count": 344,
   "id": "aa5b8246",
   "metadata": {},
   "outputs": [
    {
     "data": {
      "text/plain": [
       "chargeoff_within_12_mths        1\n",
       "term                            2\n",
       "loan_status                     3\n",
       "verification_status             3\n",
       "home_ownership                  5\n",
       "pub_rec                         5\n",
       "grade                           7\n",
       "inq_last_6mths                  9\n",
       "emp_length                     11\n",
       "delinq_2yrs                    11\n",
       "purpose                        14\n",
       "open_acc                       40\n",
       "addr_state                     50\n",
       "issue_d                        55\n",
       "total_acc                      82\n",
       "mths_since_last_delinq         95\n",
       "mths_since_last_record        111\n",
       "int_rate                      371\n",
       "earliest_cr_line              526\n",
       "zip_code                      823\n",
       "loan_amnt                     885\n",
       "funded_amnt                  1041\n",
       "revol_util                   1089\n",
       "out_prncp                    1137\n",
       "out_prncp_inv                1138\n",
       "collection_recovery_fee      2616\n",
       "dti                          2868\n",
       "recoveries                   4040\n",
       "annual_inc                   5318\n",
       "total_rec_prncp              7976\n",
       "funded_amnt_inv              8205\n",
       "installment                 15383\n",
       "title                       19615\n",
       "revol_bal                   21711\n",
       "desc                        26527\n",
       "emp_title                   28820\n",
       "total_rec_int               35148\n",
       "total_pymnt_inv             37518\n",
       "total_pymnt                 37850\n",
       "dtype: int64"
      ]
     },
     "execution_count": 344,
     "metadata": {},
     "output_type": "execute_result"
    }
   ],
   "source": [
    "lending_df.nunique().sort_values()"
   ]
  },
  {
   "cell_type": "code",
   "execution_count": 345,
   "id": "c63073ae",
   "metadata": {
    "scrolled": true
   },
   "outputs": [],
   "source": [
    "#here we missed to delete one unique value column 'chargeoff_within_12_mths' Lets delete that\n",
    "lending_df.drop(columns=['chargeoff_within_12_mths'], axis =1, inplace = True)"
   ]
  },
  {
   "cell_type": "code",
   "execution_count": 346,
   "id": "a8dc85fa",
   "metadata": {},
   "outputs": [
    {
     "data": {
      "text/plain": [
       "term                           2\n",
       "loan_status                    3\n",
       "verification_status            3\n",
       "home_ownership                 5\n",
       "pub_rec                        5\n",
       "grade                          7\n",
       "inq_last_6mths                 9\n",
       "emp_length                    11\n",
       "delinq_2yrs                   11\n",
       "purpose                       14\n",
       "open_acc                      40\n",
       "addr_state                    50\n",
       "issue_d                       55\n",
       "total_acc                     82\n",
       "mths_since_last_delinq        95\n",
       "mths_since_last_record       111\n",
       "int_rate                     371\n",
       "earliest_cr_line             526\n",
       "zip_code                     823\n",
       "loan_amnt                    885\n",
       "funded_amnt                 1041\n",
       "revol_util                  1089\n",
       "out_prncp                   1137\n",
       "out_prncp_inv               1138\n",
       "collection_recovery_fee     2616\n",
       "dti                         2868\n",
       "recoveries                  4040\n",
       "annual_inc                  5318\n",
       "total_rec_prncp             7976\n",
       "funded_amnt_inv             8205\n",
       "installment                15383\n",
       "title                      19615\n",
       "revol_bal                  21711\n",
       "desc                       26527\n",
       "emp_title                  28820\n",
       "total_rec_int              35148\n",
       "total_pymnt_inv            37518\n",
       "total_pymnt                37850\n",
       "dtype: int64"
      ]
     },
     "execution_count": 346,
     "metadata": {},
     "output_type": "execute_result"
    }
   ],
   "source": [
    "lending_df.head()\n",
    "lending_df.nunique().sort_values()"
   ]
  },
  {
   "cell_type": "code",
   "execution_count": 347,
   "id": "d4098d29",
   "metadata": {},
   "outputs": [
    {
     "data": {
      "text/plain": [
       "loan_amnt                   0.000000\n",
       "funded_amnt                 0.000000\n",
       "funded_amnt_inv             0.000000\n",
       "term                        0.000000\n",
       "int_rate                    0.000000\n",
       "installment                 0.000000\n",
       "grade                       0.000000\n",
       "emp_title                   6.191303\n",
       "emp_length                  2.706650\n",
       "home_ownership              0.000000\n",
       "annual_inc                  0.000000\n",
       "verification_status         0.000000\n",
       "issue_d                     0.000000\n",
       "loan_status                 0.000000\n",
       "desc                       32.580507\n",
       "purpose                     0.000000\n",
       "title                       0.027696\n",
       "zip_code                    0.000000\n",
       "addr_state                  0.000000\n",
       "dti                         0.000000\n",
       "delinq_2yrs                 0.000000\n",
       "earliest_cr_line            0.000000\n",
       "inq_last_6mths              0.000000\n",
       "mths_since_last_delinq     64.662487\n",
       "mths_since_last_record     92.985372\n",
       "open_acc                    0.000000\n",
       "pub_rec                     0.000000\n",
       "revol_bal                   0.000000\n",
       "revol_util                  0.125891\n",
       "total_acc                   0.000000\n",
       "out_prncp                   0.000000\n",
       "out_prncp_inv               0.000000\n",
       "total_pymnt                 0.000000\n",
       "total_pymnt_inv             0.000000\n",
       "total_rec_prncp             0.000000\n",
       "total_rec_int               0.000000\n",
       "recoveries                  0.000000\n",
       "collection_recovery_fee     0.000000\n",
       "dtype: float64"
      ]
     },
     "execution_count": 347,
     "metadata": {},
     "output_type": "execute_result"
    }
   ],
   "source": [
    "#Now Lets drop all columns having more than 40% values are null.\n",
    "(lending_df.isnull().sum()/len(lending_df)) *100"
   ]
  },
  {
   "cell_type": "code",
   "execution_count": 348,
   "id": "6a1d2bf1",
   "metadata": {},
   "outputs": [
    {
     "data": {
      "text/plain": [
       "['mths_since_last_delinq', 'mths_since_last_record']"
      ]
     },
     "execution_count": 348,
     "metadata": {},
     "output_type": "execute_result"
    }
   ],
   "source": [
    "null_percentage = (lending_df.isnull().sum()/len(lending_df)) *100\n",
    "col_with_more_null_percentage = null_percentage[null_percentage >= 40 ]\n",
    "col_with_more_null_percentage_names = col_with_more_null_percentage.index.tolist()\n",
    "col_with_more_null_percentage_names"
   ]
  },
  {
   "cell_type": "code",
   "execution_count": 349,
   "id": "ee5d1598",
   "metadata": {},
   "outputs": [],
   "source": [
    "lending_df.drop(col_with_more_null_percentage_names, axis =1, inplace = True)"
   ]
  },
  {
   "cell_type": "code",
   "execution_count": 350,
   "id": "b6a07a8f",
   "metadata": {},
   "outputs": [
    {
     "data": {
      "text/plain": [
       "(39717, 36)"
      ]
     },
     "execution_count": 350,
     "metadata": {},
     "output_type": "execute_result"
    }
   ],
   "source": [
    "lending_df.shape"
   ]
  },
  {
   "cell_type": "code",
   "execution_count": 351,
   "id": "8d88c606",
   "metadata": {},
   "outputs": [],
   "source": [
    "# The purpose categoricol column has \"house\" and \"home improvement\" has two different category.\n",
    "# but this can be treated as single category."
   ]
  },
  {
   "cell_type": "code",
   "execution_count": 352,
   "id": "7f20cb43",
   "metadata": {},
   "outputs": [],
   "source": [
    "lending_df.loc[lending_df['purpose'] == 'home_improvement','purpose'] = 'house'\n"
   ]
  },
  {
   "cell_type": "code",
   "execution_count": 353,
   "id": "207e0f1f",
   "metadata": {},
   "outputs": [
    {
     "data": {
      "text/plain": [
       "debt_consolidation    18641\n",
       "credit_card            5130\n",
       "other                  3993\n",
       "house                  3357\n",
       "major_purchase         2187\n",
       "small_business         1828\n",
       "car                    1549\n",
       "wedding                 947\n",
       "medical                 693\n",
       "moving                  583\n",
       "vacation                381\n",
       "educational             325\n",
       "renewable_energy        103\n",
       "Name: purpose, dtype: int64"
      ]
     },
     "execution_count": 353,
     "metadata": {},
     "output_type": "execute_result"
    }
   ],
   "source": [
    "lending_df['purpose'].value_counts()"
   ]
  },
  {
   "cell_type": "code",
   "execution_count": 354,
   "id": "8fe62683",
   "metadata": {},
   "outputs": [],
   "source": [
    "#lending_df.to_csv(r'C:\\Users\\murugans\\Downloads\\loan\\loan1.csv', index=False)"
   ]
  },
  {
   "cell_type": "code",
   "execution_count": 355,
   "id": "8d83668a",
   "metadata": {},
   "outputs": [],
   "source": [
    "#the column \"purpose\" has general category 'Others', for more proper analysis,\n",
    "#based on the column \"title\" value, Others can be updated as Personal or medical or home_improvement or any other existing category.\n",
    "\n",
    "#def update_based_on_condition(df, condition_value, update_value):\n",
    "#    df['title'] = df['title'].fillna('')\n",
    "#    df.loc[df['title'].str.contains(condition_value, case = False), 'purpose'] = update_value\n",
    "#    return df\n",
    "\n",
    "#conditions = {'other':'other','credit card':'credit_card','Personal':'Personal','Medical':'medical','home':'house','Vacation':'vacation', 'Car':'car','Travel':'vacation','Business':'small_business','vehicle':'car','Wedding':'wedding','purchase':'major_purchase','Debt Consolidation':'debt_consolidation','Solar':'renewable_energy','Education':'educational','Relocation':'moving', 'Moving':'moving' }\n",
    "#for condition_value, update_value in conditions.items():\n",
    "#   lending_df = update_based_on_condition(lending_df, condition_value, update_value)"
   ]
  },
  {
   "cell_type": "code",
   "execution_count": 356,
   "id": "7b5d5aa3",
   "metadata": {},
   "outputs": [
    {
     "data": {
      "text/plain": [
       "debt_consolidation    18641\n",
       "credit_card            5130\n",
       "other                  3993\n",
       "house                  3357\n",
       "major_purchase         2187\n",
       "small_business         1828\n",
       "car                    1549\n",
       "wedding                 947\n",
       "medical                 693\n",
       "moving                  583\n",
       "vacation                381\n",
       "educational             325\n",
       "renewable_energy        103\n",
       "Name: purpose, dtype: int64"
      ]
     },
     "execution_count": 356,
     "metadata": {},
     "output_type": "execute_result"
    }
   ],
   "source": [
    "lending_df['purpose'].value_counts()"
   ]
  },
  {
   "cell_type": "code",
   "execution_count": 357,
   "id": "e4f94db7",
   "metadata": {},
   "outputs": [],
   "source": [
    "#Now we do not need a title or description of the loan as it is already categorised properly with \"purpose\"\n",
    "lending_df.drop(columns=['desc','title','emp_title'],inplace=True)"
   ]
  },
  {
   "cell_type": "code",
   "execution_count": 358,
   "id": "363e2b04",
   "metadata": {},
   "outputs": [
    {
     "data": {
      "text/plain": [
       "(39717, 33)"
      ]
     },
     "execution_count": 358,
     "metadata": {},
     "output_type": "execute_result"
    }
   ],
   "source": [
    "lending_df.shape"
   ]
  },
  {
   "cell_type": "code",
   "execution_count": 359,
   "id": "e497b34a",
   "metadata": {},
   "outputs": [
    {
     "name": "stdout",
     "output_type": "stream",
     "text": [
      "<class 'pandas.core.frame.DataFrame'>\n",
      "RangeIndex: 39717 entries, 0 to 39716\n",
      "Data columns (total 33 columns):\n",
      " #   Column                   Non-Null Count  Dtype  \n",
      "---  ------                   --------------  -----  \n",
      " 0   loan_amnt                39717 non-null  int64  \n",
      " 1   funded_amnt              39717 non-null  int64  \n",
      " 2   funded_amnt_inv          39717 non-null  float64\n",
      " 3   term                     39717 non-null  object \n",
      " 4   int_rate                 39717 non-null  object \n",
      " 5   installment              39717 non-null  float64\n",
      " 6   grade                    39717 non-null  object \n",
      " 7   emp_length               38642 non-null  object \n",
      " 8   home_ownership           39717 non-null  object \n",
      " 9   annual_inc               39717 non-null  float64\n",
      " 10  verification_status      39717 non-null  object \n",
      " 11  issue_d                  39717 non-null  object \n",
      " 12  loan_status              39717 non-null  object \n",
      " 13  purpose                  39717 non-null  object \n",
      " 14  zip_code                 39717 non-null  object \n",
      " 15  addr_state               39717 non-null  object \n",
      " 16  dti                      39717 non-null  float64\n",
      " 17  delinq_2yrs              39717 non-null  int64  \n",
      " 18  earliest_cr_line         39717 non-null  object \n",
      " 19  inq_last_6mths           39717 non-null  int64  \n",
      " 20  open_acc                 39717 non-null  int64  \n",
      " 21  pub_rec                  39717 non-null  int64  \n",
      " 22  revol_bal                39717 non-null  int64  \n",
      " 23  revol_util               39667 non-null  object \n",
      " 24  total_acc                39717 non-null  int64  \n",
      " 25  out_prncp                39717 non-null  float64\n",
      " 26  out_prncp_inv            39717 non-null  float64\n",
      " 27  total_pymnt              39717 non-null  float64\n",
      " 28  total_pymnt_inv          39717 non-null  float64\n",
      " 29  total_rec_prncp          39717 non-null  float64\n",
      " 30  total_rec_int            39717 non-null  float64\n",
      " 31  recoveries               39717 non-null  float64\n",
      " 32  collection_recovery_fee  39717 non-null  float64\n",
      "dtypes: float64(12), int64(8), object(13)\n",
      "memory usage: 10.0+ MB\n"
     ]
    }
   ],
   "source": [
    "lending_df.info()"
   ]
  },
  {
   "cell_type": "markdown",
   "id": "ec023b52",
   "metadata": {},
   "source": [
    "# 2 Data Standardization "
   ]
  },
  {
   "cell_type": "code",
   "execution_count": 360,
   "id": "5d1f6222",
   "metadata": {},
   "outputs": [],
   "source": [
    "lending_df['term'] = lending_df['term'].str.rstrip('months').str.strip()"
   ]
  },
  {
   "cell_type": "code",
   "execution_count": 361,
   "id": "4da79970",
   "metadata": {},
   "outputs": [],
   "source": [
    "lending_df['int_rate'] = lending_df['int_rate'].str.rstrip('%').str.strip()\n",
    "lending_df['revol_util'] = lending_df['revol_util'].str.rstrip('%').str.strip()"
   ]
  },
  {
   "cell_type": "code",
   "execution_count": null,
   "id": "997d581f",
   "metadata": {},
   "outputs": [],
   "source": []
  },
  {
   "cell_type": "code",
   "execution_count": 362,
   "id": "2acd38b1",
   "metadata": {},
   "outputs": [
    {
     "data": {
      "text/plain": [
       "10+ years    8879\n",
       "< 1 year     4583\n",
       "2 years      4388\n",
       "3 years      4095\n",
       "4 years      3436\n",
       "5 years      3282\n",
       "1 year       3240\n",
       "6 years      2229\n",
       "7 years      1773\n",
       "8 years      1479\n",
       "9 years      1258\n",
       "Name: emp_length, dtype: int64"
      ]
     },
     "execution_count": 362,
     "metadata": {},
     "output_type": "execute_result"
    }
   ],
   "source": [
    "lending_df['emp_length'].value_counts()"
   ]
  },
  {
   "cell_type": "code",
   "execution_count": 363,
   "id": "f57f59c8",
   "metadata": {},
   "outputs": [],
   "source": [
    "#emp_length has  2.706650% values as empty. now need to fill these values. \n",
    "# Before fixing missing values, lets convert emp_length into float values.\n",
    "def fix_years(years_str):\n",
    "    if isinstance(years_str, float):  # Check if the input is already a float\n",
    "        return years_str\n",
    "    elif 'year' in years_str:  # Check if 'year' is present in the string\n",
    "        years_str = years_str.replace('year','').replace('years','')\n",
    "        if '+' in years_str:  # If '+' is present, extract the number before it and add 1\n",
    "            years = float(years_str.split('+')[0]) + 1\n",
    "        elif '<' in years_str:  # If '<' is present, extract the number after it and subtract 0.1\n",
    "            years = float(years_str.replace('<','').split()[0]) - 0.1\n",
    "        else:  # Otherwise, extract the number\n",
    "            years = float(years_str.split()[0])\n",
    "    else:\n",
    "        years = None  # Return None if the string doesn't contain 'year'\n",
    "    return years\n",
    "\n",
    "lending_df['emp_length'] = lending_df['emp_length'].apply(fix_years)"
   ]
  },
  {
   "cell_type": "code",
   "execution_count": 364,
   "id": "5a59b407",
   "metadata": {},
   "outputs": [
    {
     "data": {
      "text/plain": [
       "11.0    8879\n",
       "0.9     4583\n",
       "2.0     4388\n",
       "3.0     4095\n",
       "4.0     3436\n",
       "5.0     3282\n",
       "1.0     3240\n",
       "6.0     2229\n",
       "7.0     1773\n",
       "8.0     1479\n",
       "9.0     1258\n",
       "Name: emp_length, dtype: int64"
      ]
     },
     "execution_count": 364,
     "metadata": {},
     "output_type": "execute_result"
    }
   ],
   "source": [
    "lending_df['emp_length'].value_counts()"
   ]
  },
  {
   "cell_type": "code",
   "execution_count": 365,
   "id": "c20d6e35",
   "metadata": {},
   "outputs": [
    {
     "data": {
      "text/plain": [
       "count    38642.000000\n",
       "mean         5.309966\n",
       "std          3.762025\n",
       "min          0.900000\n",
       "25%          2.000000\n",
       "50%          4.000000\n",
       "75%          9.000000\n",
       "max         11.000000\n",
       "Name: emp_length, dtype: float64"
      ]
     },
     "execution_count": 365,
     "metadata": {},
     "output_type": "execute_result"
    }
   ],
   "source": [
    "lending_df['emp_length'].describe()"
   ]
  },
  {
   "cell_type": "code",
   "execution_count": 366,
   "id": "65973a80",
   "metadata": {},
   "outputs": [
    {
     "data": {
      "text/plain": [
       "4.0"
      ]
     },
     "execution_count": 366,
     "metadata": {},
     "output_type": "execute_result"
    }
   ],
   "source": [
    "lending_df['emp_length'].median()\n"
   ]
  },
  {
   "cell_type": "code",
   "execution_count": 367,
   "id": "48110124",
   "metadata": {},
   "outputs": [],
   "source": [
    "# fill the missing values with median of 'emp_length'.\n",
    "lending_df['emp_length'] = lending_df['emp_length'].fillna(lending_df['emp_length'].median())"
   ]
  },
  {
   "cell_type": "code",
   "execution_count": 368,
   "id": "a7dcb6f3",
   "metadata": {
    "collapsed": true
   },
   "outputs": [
    {
     "data": {
      "text/plain": [
       "loan_amnt                  0.000000\n",
       "funded_amnt                0.000000\n",
       "funded_amnt_inv            0.000000\n",
       "term                       0.000000\n",
       "int_rate                   0.000000\n",
       "installment                0.000000\n",
       "grade                      0.000000\n",
       "emp_length                 0.000000\n",
       "home_ownership             0.000000\n",
       "annual_inc                 0.000000\n",
       "verification_status        0.000000\n",
       "issue_d                    0.000000\n",
       "loan_status                0.000000\n",
       "purpose                    0.000000\n",
       "zip_code                   0.000000\n",
       "addr_state                 0.000000\n",
       "dti                        0.000000\n",
       "delinq_2yrs                0.000000\n",
       "earliest_cr_line           0.000000\n",
       "inq_last_6mths             0.000000\n",
       "open_acc                   0.000000\n",
       "pub_rec                    0.000000\n",
       "revol_bal                  0.000000\n",
       "revol_util                 0.125891\n",
       "total_acc                  0.000000\n",
       "out_prncp                  0.000000\n",
       "out_prncp_inv              0.000000\n",
       "total_pymnt                0.000000\n",
       "total_pymnt_inv            0.000000\n",
       "total_rec_prncp            0.000000\n",
       "total_rec_int              0.000000\n",
       "recoveries                 0.000000\n",
       "collection_recovery_fee    0.000000\n",
       "dtype: float64"
      ]
     },
     "execution_count": 368,
     "metadata": {},
     "output_type": "execute_result"
    }
   ],
   "source": [
    "# Now lets check th empty values of all columns\n",
    "(lending_df.isnull().sum()/len(lending_df)) *100"
   ]
  },
  {
   "cell_type": "code",
   "execution_count": 369,
   "id": "44e616b4",
   "metadata": {
    "collapsed": true
   },
   "outputs": [
    {
     "name": "stdout",
     "output_type": "stream",
     "text": [
      "<class 'pandas.core.frame.DataFrame'>\n",
      "RangeIndex: 39717 entries, 0 to 39716\n",
      "Data columns (total 33 columns):\n",
      " #   Column                   Non-Null Count  Dtype  \n",
      "---  ------                   --------------  -----  \n",
      " 0   loan_amnt                39717 non-null  int64  \n",
      " 1   funded_amnt              39717 non-null  int64  \n",
      " 2   funded_amnt_inv          39717 non-null  float64\n",
      " 3   term                     39717 non-null  object \n",
      " 4   int_rate                 39717 non-null  object \n",
      " 5   installment              39717 non-null  float64\n",
      " 6   grade                    39717 non-null  object \n",
      " 7   emp_length               39717 non-null  float64\n",
      " 8   home_ownership           39717 non-null  object \n",
      " 9   annual_inc               39717 non-null  float64\n",
      " 10  verification_status      39717 non-null  object \n",
      " 11  issue_d                  39717 non-null  object \n",
      " 12  loan_status              39717 non-null  object \n",
      " 13  purpose                  39717 non-null  object \n",
      " 14  zip_code                 39717 non-null  object \n",
      " 15  addr_state               39717 non-null  object \n",
      " 16  dti                      39717 non-null  float64\n",
      " 17  delinq_2yrs              39717 non-null  int64  \n",
      " 18  earliest_cr_line         39717 non-null  object \n",
      " 19  inq_last_6mths           39717 non-null  int64  \n",
      " 20  open_acc                 39717 non-null  int64  \n",
      " 21  pub_rec                  39717 non-null  int64  \n",
      " 22  revol_bal                39717 non-null  int64  \n",
      " 23  revol_util               39667 non-null  object \n",
      " 24  total_acc                39717 non-null  int64  \n",
      " 25  out_prncp                39717 non-null  float64\n",
      " 26  out_prncp_inv            39717 non-null  float64\n",
      " 27  total_pymnt              39717 non-null  float64\n",
      " 28  total_pymnt_inv          39717 non-null  float64\n",
      " 29  total_rec_prncp          39717 non-null  float64\n",
      " 30  total_rec_int            39717 non-null  float64\n",
      " 31  recoveries               39717 non-null  float64\n",
      " 32  collection_recovery_fee  39717 non-null  float64\n",
      "dtypes: float64(13), int64(8), object(12)\n",
      "memory usage: 10.0+ MB\n"
     ]
    }
   ],
   "source": [
    "lending_df.info()"
   ]
  },
  {
   "cell_type": "code",
   "execution_count": 388,
   "id": "319a0d08",
   "metadata": {},
   "outputs": [],
   "source": [
    "# converting Columns to proper data type \n",
    "int_to_float = ['loan_amnt','funded_amnt','int_rate','revol_util']\n",
    "lending_df[int_to_float] = lending_df[int_to_float].astype(float)\n",
    "lending_df['term'] = lending_df['term'].astype(int)\n",
    "lending_df['issue_d'] = pd.to_datetime(lending_df['issue_d'], format ='%b-%y')\n",
    "# fill the missing values with median of 'revol_util'.\n",
    "lending_df['revol_util'] = lending_df['revol_util'].fillna(lending_df['revol_util'].median())\n",
    "# converting earliest_cr_line to date time format. format is not consistent here. \n",
    "#So make sure it is consistent then convert to datetimeformat\n",
    "current_year = pd.datetime.now().year\n",
    "current_century = current_year - (current_year % 100)\n",
    "def convert_to_common_format(date_str):\n",
    "    try:\n",
    "        # Attempt to parse as month-year format\n",
    "        return pd.to_datetime(date_str, format='%b-%y') + pd.offsets.DateOffset(years=current_century)\n",
    "    except ValueError:\n",
    "        try:\n",
    "            # Attempt to parse as day-month format\n",
    "            return pd.to_datetime(date_str, dayfirst=True)\n",
    "        except ValueError:\n",
    "            # If parsing fails, return NaT (missing value)\n",
    "            return pd.NaT\n",
    "lending_df['earliest_cr_line'] = lending_df['earliest_cr_line'].apply(convert_to_common_format)"
   ]
  },
  {
   "cell_type": "code",
   "execution_count": 389,
   "id": "577ccd71",
   "metadata": {},
   "outputs": [
    {
     "name": "stdout",
     "output_type": "stream",
     "text": [
      "<class 'pandas.core.frame.DataFrame'>\n",
      "RangeIndex: 39717 entries, 0 to 39716\n",
      "Data columns (total 33 columns):\n",
      " #   Column                   Non-Null Count  Dtype         \n",
      "---  ------                   --------------  -----         \n",
      " 0   loan_amnt                39717 non-null  float64       \n",
      " 1   funded_amnt              39717 non-null  float64       \n",
      " 2   funded_amnt_inv          39717 non-null  float64       \n",
      " 3   term                     39717 non-null  int32         \n",
      " 4   int_rate                 39717 non-null  float64       \n",
      " 5   installment              39717 non-null  float64       \n",
      " 6   grade                    39717 non-null  object        \n",
      " 7   emp_length               39717 non-null  float64       \n",
      " 8   home_ownership           39717 non-null  object        \n",
      " 9   annual_inc               39717 non-null  float64       \n",
      " 10  verification_status      39717 non-null  object        \n",
      " 11  issue_d                  39717 non-null  datetime64[ns]\n",
      " 12  loan_status              39717 non-null  object        \n",
      " 13  purpose                  39717 non-null  object        \n",
      " 14  zip_code                 39717 non-null  object        \n",
      " 15  addr_state               39717 non-null  object        \n",
      " 16  dti                      39717 non-null  float64       \n",
      " 17  delinq_2yrs              39717 non-null  int64         \n",
      " 18  earliest_cr_line         24869 non-null  datetime64[ns]\n",
      " 19  inq_last_6mths           39717 non-null  int64         \n",
      " 20  open_acc                 39717 non-null  int64         \n",
      " 21  pub_rec                  39717 non-null  int64         \n",
      " 22  revol_bal                39717 non-null  int64         \n",
      " 23  revol_util               39717 non-null  float64       \n",
      " 24  total_acc                39717 non-null  int64         \n",
      " 25  out_prncp                39717 non-null  float64       \n",
      " 26  out_prncp_inv            39717 non-null  float64       \n",
      " 27  total_pymnt              39717 non-null  float64       \n",
      " 28  total_pymnt_inv          39717 non-null  float64       \n",
      " 29  total_rec_prncp          39717 non-null  float64       \n",
      " 30  total_rec_int            39717 non-null  float64       \n",
      " 31  recoveries               39717 non-null  float64       \n",
      " 32  collection_recovery_fee  39717 non-null  float64       \n",
      "dtypes: datetime64[ns](2), float64(17), int32(1), int64(6), object(7)\n",
      "memory usage: 9.8+ MB\n"
     ]
    }
   ],
   "source": [
    "lending_df.info()"
   ]
  },
  {
   "cell_type": "code",
   "execution_count": null,
   "id": "bcc461ab",
   "metadata": {},
   "outputs": [],
   "source": []
  },
  {
   "cell_type": "code",
   "execution_count": null,
   "id": "34d3ada8",
   "metadata": {},
   "outputs": [],
   "source": []
  },
  {
   "cell_type": "code",
   "execution_count": null,
   "id": "5b3388ca",
   "metadata": {},
   "outputs": [],
   "source": []
  }
 ],
 "metadata": {
  "kernelspec": {
   "display_name": "Python 3 (ipykernel)",
   "language": "python",
   "name": "python3"
  },
  "language_info": {
   "codemirror_mode": {
    "name": "ipython",
    "version": 3
   },
   "file_extension": ".py",
   "mimetype": "text/x-python",
   "name": "python",
   "nbconvert_exporter": "python",
   "pygments_lexer": "ipython3",
   "version": "3.9.7"
  }
 },
 "nbformat": 4,
 "nbformat_minor": 5
}
